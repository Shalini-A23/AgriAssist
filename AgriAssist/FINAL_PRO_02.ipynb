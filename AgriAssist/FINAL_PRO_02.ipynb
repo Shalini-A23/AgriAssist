{
  "nbformat": 4,
  "nbformat_minor": 0,
  "metadata": {
    "colab": {
      "provenance": []
    },
    "kernelspec": {
      "name": "python3",
      "display_name": "Python 3"
    },
    "language_info": {
      "name": "python"
    }
  },
  "cells": [
    {
      "cell_type": "code",
      "execution_count": null,
      "metadata": {
        "colab": {
          "base_uri": "https://localhost:8080/"
        },
        "id": "8q04SuKW1ACc",
        "outputId": "7c01e3d3-b5f2-4a84-c4f6-6619a2e6a044"
      },
      "outputs": [
        {
          "output_type": "stream",
          "name": "stderr",
          "text": [
            "/usr/local/lib/python3.11/dist-packages/xgboost/core.py:158: UserWarning: [07:46:40] WARNING: /workspace/src/learner.cc:740: \n",
            "Parameters: { \"use_label_encoder\" } are not used.\n",
            "\n",
            "  warnings.warn(smsg, UserWarning)\n"
          ]
        },
        {
          "output_type": "stream",
          "name": "stdout",
          "text": [
            "\n",
            "Classification Report:\n",
            "               precision    recall  f1-score   support\n",
            "\n",
            "       apple       1.00      1.00      1.00        20\n",
            "      banana       1.00      1.00      1.00        20\n",
            "   blackgram       1.00      0.97      0.98        30\n",
            "    chickpea       1.00      1.00      1.00        20\n",
            "     coconut       1.00      1.00      1.00        30\n",
            "      coffee       1.00      0.95      0.97        20\n",
            "      cotton       1.00      1.00      1.00        20\n",
            "      grapes       1.00      1.00      1.00        20\n",
            "        jute       0.97      0.97      0.97        30\n",
            " kidneybeans       1.00      1.00      1.00        20\n",
            "      lentil       1.00      1.00      1.00        20\n",
            "       maize       0.97      1.00      0.98        30\n",
            "       mango       1.00      0.95      0.97        20\n",
            "   mothbeans       0.95      1.00      0.98        20\n",
            "    mungbean       1.00      1.00      1.00        20\n",
            "   muskmelon       1.00      1.00      1.00        20\n",
            "      orange       1.00      1.00      1.00        20\n",
            "      papaya       1.00      1.00      1.00        20\n",
            "  pigeonpeas       1.00      1.00      1.00        20\n",
            " pomegranate       1.00      1.00      1.00        20\n",
            "        rice       0.97      1.00      0.98        30\n",
            "  watermelon       1.00      1.00      1.00        20\n",
            "\n",
            "    accuracy                           0.99       490\n",
            "   macro avg       0.99      0.99      0.99       490\n",
            "weighted avg       0.99      0.99      0.99       490\n",
            "\n",
            "Confusion Matrix:\n",
            " [[20  0  0  0  0  0  0  0  0  0  0  0  0  0  0  0  0  0  0  0  0  0]\n",
            " [ 0 20  0  0  0  0  0  0  0  0  0  0  0  0  0  0  0  0  0  0  0  0]\n",
            " [ 0  0 29  0  0  0  0  0  0  0  0  1  0  0  0  0  0  0  0  0  0  0]\n",
            " [ 0  0  0 20  0  0  0  0  0  0  0  0  0  0  0  0  0  0  0  0  0  0]\n",
            " [ 0  0  0  0 30  0  0  0  0  0  0  0  0  0  0  0  0  0  0  0  0  0]\n",
            " [ 0  0  0  0  0 19  0  0  1  0  0  0  0  0  0  0  0  0  0  0  0  0]\n",
            " [ 0  0  0  0  0  0 20  0  0  0  0  0  0  0  0  0  0  0  0  0  0  0]\n",
            " [ 0  0  0  0  0  0  0 20  0  0  0  0  0  0  0  0  0  0  0  0  0  0]\n",
            " [ 0  0  0  0  0  0  0  0 29  0  0  0  0  0  0  0  0  0  0  0  1  0]\n",
            " [ 0  0  0  0  0  0  0  0  0 20  0  0  0  0  0  0  0  0  0  0  0  0]\n",
            " [ 0  0  0  0  0  0  0  0  0  0 20  0  0  0  0  0  0  0  0  0  0  0]\n",
            " [ 0  0  0  0  0  0  0  0  0  0  0 30  0  0  0  0  0  0  0  0  0  0]\n",
            " [ 0  0  0  0  0  0  0  0  0  0  0  0 19  1  0  0  0  0  0  0  0  0]\n",
            " [ 0  0  0  0  0  0  0  0  0  0  0  0  0 20  0  0  0  0  0  0  0  0]\n",
            " [ 0  0  0  0  0  0  0  0  0  0  0  0  0  0 20  0  0  0  0  0  0  0]\n",
            " [ 0  0  0  0  0  0  0  0  0  0  0  0  0  0  0 20  0  0  0  0  0  0]\n",
            " [ 0  0  0  0  0  0  0  0  0  0  0  0  0  0  0  0 20  0  0  0  0  0]\n",
            " [ 0  0  0  0  0  0  0  0  0  0  0  0  0  0  0  0  0 20  0  0  0  0]\n",
            " [ 0  0  0  0  0  0  0  0  0  0  0  0  0  0  0  0  0  0 20  0  0  0]\n",
            " [ 0  0  0  0  0  0  0  0  0  0  0  0  0  0  0  0  0  0  0 20  0  0]\n",
            " [ 0  0  0  0  0  0  0  0  0  0  0  0  0  0  0  0  0  0  0  0 30  0]\n",
            " [ 0  0  0  0  0  0  0  0  0  0  0  0  0  0  0  0  0  0  0  0  0 20]]\n"
          ]
        }
      ],
      "source": [
        "import pandas as pd\n",
        "import numpy as np\n",
        "from sklearn.model_selection import train_test_split\n",
        "from sklearn.preprocessing import LabelEncoder, StandardScaler\n",
        "from xgboost import XGBClassifier\n",
        "from sklearn.metrics import classification_report, confusion_matrix\n",
        "import joblib\n",
        "\n",
        "# Load dataset\n",
        "df = pd.read_csv(\"Crop_recommendation.csv\")\n",
        "\n",
        "# Define synthetic data ranges\n",
        "crop_ranges = {\n",
        "    'rice': {'N': (90, 120), 'P': (40, 60), 'K': (40, 60), 'temperature': (25, 35), 'humidity': (70, 90), 'ph': (5.5, 6.5), 'rainfall': (150, 250)},\n",
        "    'maize': {'N': (80, 100), 'P': (30, 60), 'K': (30, 60), 'temperature': (25, 30), 'humidity': (50, 70), 'ph': (6.0, 7.0), 'rainfall': (80, 120)},\n",
        "    'jute': {'N': (40, 70), 'P': (20, 40), 'K': (20, 40), 'temperature': (24, 30), 'humidity': (70, 90), 'ph': (6.0, 7.0), 'rainfall': (150, 200)},\n",
        "    'blackgram': {'N': (20, 50), 'P': (10, 30), 'K': (10, 30), 'temperature': (20, 30), 'humidity': (50, 80), 'ph': (6.0, 7.0), 'rainfall': (60, 100)},\n",
        "    'coconut': {'N': (70, 90), 'P': (35, 50), 'K': (35, 50), 'temperature': (27, 31), 'humidity': (75, 85), 'ph': (6.0, 6.5), 'rainfall': (240, 270)}\n",
        "}\n",
        "\n",
        "# Generate synthetic rows\n",
        "def generate_synthetic_crop(crop_name, n_samples, ranges):\n",
        "    np.random.seed(42)\n",
        "    return pd.DataFrame({\n",
        "        'N': np.random.randint(*ranges['N'], n_samples),\n",
        "        'P': np.random.randint(*ranges['P'], n_samples),\n",
        "        'K': np.random.randint(*ranges['K'], n_samples),\n",
        "        'temperature': np.random.uniform(*ranges['temperature'], n_samples),\n",
        "        'humidity': np.random.uniform(*ranges['humidity'], n_samples),\n",
        "        'ph': np.random.uniform(*ranges['ph'], n_samples),\n",
        "        'rainfall': np.random.uniform(*ranges['rainfall'], n_samples),\n",
        "        'label': [crop_name] * n_samples\n",
        "    })\n",
        "\n",
        "# Add synthetic samples\n",
        "synthetic_data = pd.concat([\n",
        "    generate_synthetic_crop(crop, 50, ranges)\n",
        "    for crop, ranges in crop_ranges.items()\n",
        "])\n",
        "df = pd.concat([df, synthetic_data], ignore_index=True)\n",
        "\n",
        "# Encode labels\n",
        "le = LabelEncoder()\n",
        "df['label_encoded'] = le.fit_transform(df['label'])\n",
        "\n",
        "# Features and labels\n",
        "X = df.drop(columns=['label', 'label_encoded'])\n",
        "y = df['label_encoded']\n",
        "\n",
        "# Feature scaling\n",
        "scaler = StandardScaler()\n",
        "X_scaled = scaler.fit_transform(X)\n",
        "\n",
        "# Split data\n",
        "X_train, X_test, y_train, y_test = train_test_split(\n",
        "    X_scaled, y, test_size=0.2, stratify=y, random_state=42\n",
        ")\n",
        "\n",
        "# Train model\n",
        "model = XGBClassifier(use_label_encoder=False, eval_metric='mlogloss', random_state=42)\n",
        "model.fit(X_train, y_train)\n",
        "\n",
        "# Evaluate model\n",
        "y_pred = model.predict(X_test)\n",
        "report = classification_report(y_test, y_pred, target_names=le.classes_)\n",
        "conf_matrix = confusion_matrix(y_test, y_pred)\n",
        "\n",
        "# Save model and tools\n",
        "joblib.dump(model, 'model.pkl')\n",
        "joblib.dump(le, 'labelencoder.pkl')\n",
        "joblib.dump(scaler, 'standscaler.pkl')\n",
        "\n",
        "# Output metrics\n",
        "print(\"\\nClassification Report:\\n\", report)\n",
        "print(\"Confusion Matrix:\\n\", conf_matrix)\n"
      ]
    },
    {
      "cell_type": "code",
      "source": [
        "import joblib\n",
        "import numpy as np\n",
        "\n",
        "# Load model, scaler and label encoder with joblib\n",
        "model = joblib.load('model.pkl')\n",
        "scaler = joblib.load('standscaler.pkl')\n",
        "le = joblib.load('labelencoder.pkl')\n",
        "\n",
        "# Sample inputs\n",
        "samples = [\n",
        "    [90, 42, 43, 20.5, 82.0, 6.5, 200.0],\n",
        "    [25, 10, 15, 30.0, 60.0, 5.5, 80.0],\n",
        "    [110, 50, 60, 28.0, 75.0, 6.8, 220.0],\n",
        "    [40, 60, 60, 18.0, 85.0, 6.2, 300.0],\n",
        "    [15, 5, 5, 33.0, 40.0, 5.0, 20.0],\n",
        "    [80, 40, 40, 29.0, 78.0, 6.2, 250.0]\n",
        "]\n",
        "\n",
        "# Scale inputs\n",
        "scaled_samples = scaler.transform(samples)\n",
        "\n",
        "# Predict\n",
        "preds = model.predict(scaled_samples)\n",
        "\n",
        "# Decode predictions\n",
        "decoded_preds = le.inverse_transform(preds)\n",
        "\n",
        "for i, pred in enumerate(decoded_preds):\n",
        "    print(f\"Sample {i+1} Prediction: {pred}\")\n"
      ],
      "metadata": {
        "colab": {
          "base_uri": "https://localhost:8080/"
        },
        "id": "R2RYGy-c6Hs8",
        "outputId": "a117d96a-3a3d-457e-abc6-958dc8f9f02b"
      },
      "execution_count": null,
      "outputs": [
        {
          "output_type": "stream",
          "name": "stdout",
          "text": [
            "Sample 1 Prediction: rice\n",
            "Sample 2 Prediction: blackgram\n",
            "Sample 3 Prediction: rice\n",
            "Sample 4 Prediction: rice\n",
            "Sample 5 Prediction: mothbeans\n",
            "Sample 6 Prediction: coconut\n"
          ]
        },
        {
          "output_type": "stream",
          "name": "stderr",
          "text": [
            "/usr/local/lib/python3.11/dist-packages/sklearn/utils/validation.py:2739: UserWarning: X does not have valid feature names, but StandardScaler was fitted with feature names\n",
            "  warnings.warn(\n"
          ]
        }
      ]
    }
  ]
}